{
  "nbformat": 4,
  "nbformat_minor": 0,
  "metadata": {
    "colab": {
      "name": "eas7_faces_4_gan_var.ipynb",
      "version": "0.3.2",
      "provenance": [],
      "collapsed_sections": [],
      "include_colab_link": true
    },
    "language_info": {
      "codemirror_mode": {
        "name": "ipython",
        "version": 3
      },
      "file_extension": ".py",
      "mimetype": "text/x-python",
      "name": "python",
      "nbconvert_exporter": "python",
      "pygments_lexer": "ipython3",
      "version": "3.6.2"
    },
    "kernelspec": {
      "display_name": "Python 3",
      "language": "python",
      "name": "python3"
    },
    "accelerator": "GPU"
  },
  "cells": [
    {
      "cell_type": "markdown",
      "metadata": {
        "id": "view-in-github",
        "colab_type": "text"
      },
      "source": [
        "<a href=\"https://colab.research.google.com/github/escuccim/pytorch-face-autoencoder/blob/master/eas7_faces_5_gan_var.ipynb\" target=\"_parent\"><img src=\"https://colab.research.google.com/assets/colab-badge.svg\" alt=\"Open In Colab\"/></a>"
      ]
    },
    {
      "cell_type": "markdown",
      "metadata": {
        "colab_type": "text",
        "id": "l9In7qQpqcJK"
      },
      "source": [
        "Adding some longer residual connections to try to preserve some small details which seem to be getting lost; added batch norm; replaced 6x5 convolution with global average pool followed by 1x1 convolution.\n",
        "\n",
        "Added a discriminator and training as a GAN (but still with autoencoder) to see if that improves the results. Also switched to variational autoencoder, with slight changes to architecture to keep model from getting too big. Training from scratch."
      ]
    },
    {
      "cell_type": "code",
      "metadata": {
        "colab_type": "code",
        "id": "YB1d0Rm6SWiB",
        "colab": {}
      },
      "source": [
        "import torch\n",
        "import torchvision\n",
        "from torch.utils.data import DataLoader\n",
        "from matplotlib import pyplot as plt\n",
        "%matplotlib inline\n",
        "import zipfile\n",
        "import os"
      ],
      "execution_count": 0,
      "outputs": []
    },
    {
      "cell_type": "code",
      "metadata": {
        "colab_type": "code",
        "id": "cIPFIJ57Ib3F",
        "colab": {}
      },
      "source": [
        "from google.colab import auth\n",
        "auth.authenticate_user()"
      ],
      "execution_count": 0,
      "outputs": []
    },
    {
      "cell_type": "code",
      "metadata": {
        "colab_type": "code",
        "id": "OfnxTa-rYxhS",
        "outputId": "01003fb1-286f-4e23-c8a4-2573e0c14921",
        "colab": {
          "base_uri": "https://localhost:8080/",
          "height": 34
        }
      },
      "source": [
        "# upload checkpoint to GCS\n",
        "project_id = 'mammography-198911'\n",
        "bucket_name = 'pneumonia'\n",
        "\n",
        "!gcloud config set project {project_id}"
      ],
      "execution_count": 3,
      "outputs": [
        {
          "output_type": "stream",
          "text": [
            "Updated property [core/project].\n"
          ],
          "name": "stdout"
        }
      ]
    },
    {
      "cell_type": "code",
      "metadata": {
        "colab_type": "code",
        "id": "6cSr1AoQInIa",
        "colab": {
          "base_uri": "https://localhost:8080/",
          "height": 119
        },
        "outputId": "2094efaf-4736-4c93-cc3c-0cdbb3e3bbc1"
      },
      "source": [
        "# !gsutil cp gs://{bucket_name}/model_31.pt ./gen_model_4.pt \n",
        "!gsutil cp gs://{bucket_name}/gen_model_41.pt ./gen_model_4.pt \n",
        "!gsutil cp gs://{bucket_name}/disc_model_41.pt ./disc_model_4.pt "
      ],
      "execution_count": 4,
      "outputs": [
        {
          "output_type": "stream",
          "text": [
            "Copying gs://pneumonia/gen_model_41.pt...\n",
            "- [1 files][294.9 MiB/294.9 MiB]                                                \n",
            "Operation completed over 1 objects/294.9 MiB.                                    \n",
            "Copying gs://pneumonia/disc_model_41.pt...\n",
            "/ [1 files][ 20.8 MiB/ 20.8 MiB]                                                \n",
            "Operation completed over 1 objects/20.8 MiB.                                     \n"
          ],
          "name": "stdout"
        }
      ]
    },
    {
      "cell_type": "code",
      "metadata": {
        "colab_type": "code",
        "id": "Zphgm17rYd1-",
        "colab": {
          "base_uri": "https://localhost:8080/",
          "height": 68
        },
        "outputId": "5a3dbb80-e2f7-4688-ca08-0a9219c41e01"
      },
      "source": [
        "if not os.path.exists(\"celeba-dataset.zip\"):\n",
        "#   !kaggle datasets download -d jessicali9530/celeba-dataset\n",
        "  !gsutil cp gs://{bucket_name}/celeba-dataset.zip ./celeba-dataset.zip\n",
        "  zip_ref = zipfile.ZipFile('celeba-dataset.zip', 'r')\n",
        "  zip_ref.extractall('data')\n",
        "  zip_ref.close()\n",
        "\n",
        "  zip_ref = zipfile.ZipFile('data/img_align_celeba.zip', 'r')\n",
        "  zip_ref.extractall('data/images')\n",
        "  zip_ref.close()"
      ],
      "execution_count": 5,
      "outputs": [
        {
          "output_type": "stream",
          "text": [
            "Copying gs://pneumonia/celeba-dataset.zip...\n",
            "/ [1 files][  1.2 GiB/  1.2 GiB]  101.4 MiB/s                                   \n",
            "Operation completed over 1 objects/1.2 GiB.                                      \n"
          ],
          "name": "stdout"
        }
      ]
    },
    {
      "cell_type": "code",
      "metadata": {
        "colab_type": "code",
        "id": "8xAiI3XHnyto",
        "colab": {}
      },
      "source": [
        "if not os.path.exists(\"Training_Pictures.zip\"):\n",
        "  !wget https://s3.eu-west-3.amazonaws.com/deep.skoo.ch/Training_Pictures.zip\n",
        "  zip_ref = zipfile.ZipFile('Training_Pictures.zip', 'r')\n",
        "  zip_ref.extractall('data/images')\n",
        "  zip_ref.close()"
      ],
      "execution_count": 0,
      "outputs": []
    },
    {
      "cell_type": "code",
      "metadata": {
        "colab_type": "code",
        "id": "dWiiNUCtNrJC",
        "colab": {
          "base_uri": "https://localhost:8080/",
          "height": 68
        },
        "outputId": "590b1259-c690-4ac1-c633-1b029d672b82"
      },
      "source": [
        "if not os.path.exists(\"wiki_images2.zip\"):\n",
        "  !gsutil cp gs://{bucket_name}/wiki_images2.zip ./wiki_images.zip\n",
        "  zip_ref = zipfile.ZipFile('wiki_images.zip', 'r')\n",
        "  zip_ref.extractall('data/images')\n",
        "  zip_ref.close()\n",
        "  \n",
        "# if not os.path.exists(\"imdb_images3.zip\"):  \n",
        "#   !gsutil cp gs://{bucket_name}/imdb_images3.zip ./imdb_images3.zip\n",
        "#   zip_ref = zipfile.ZipFile('imdb_images3.zip', 'r')\n",
        "#   zip_ref.extractall('data/images')\n",
        "#   zip_ref.close()    "
      ],
      "execution_count": 6,
      "outputs": [
        {
          "output_type": "stream",
          "text": [
            "Copying gs://pneumonia/wiki_images2.zip...\n",
            "\\ [1 files][160.5 MiB/160.5 MiB]                                                \n",
            "Operation completed over 1 objects/160.5 MiB.                                    \n"
          ],
          "name": "stdout"
        }
      ]
    },
    {
      "cell_type": "code",
      "metadata": {
        "colab_type": "code",
        "id": "4koMQZ1srQg7",
        "colab": {
          "base_uri": "https://localhost:8080/",
          "height": 442
        },
        "outputId": "a989de7a-1ab0-4592-d903-1776c036c33c"
      },
      "source": [
        "# get test data\n",
        "# if not os.path.exists(\"faces94.zip\"):\n",
        "#   !wget https://cswww.essex.ac.uk/mv/allfaces/faces94.zip\n",
        "#   zip_ref = zipfile.ZipFile('faces94.zip', 'r')\n",
        "#   zip_ref.extractall('data/test_images')\n",
        "#   zip_ref.close()\n",
        "  \n",
        "# if not os.path.exists(\"faces96.zip\"):\n",
        "#   !wget https://cswww.essex.ac.uk/mv/allfaces/faces96.zip  \n",
        "#   zip_ref = zipfile.ZipFile('faces96.zip', 'r')\n",
        "#   zip_ref.extractall('data/test_images')\n",
        "#   zip_ref.close()\n",
        "\n",
        "\n",
        "if not os.path.exists(\"faces95.zip\"):\n",
        "  !wget https://cswww.essex.ac.uk/mv/allfaces/faces95.zip  \n",
        "  zip_ref = zipfile.ZipFile('faces95.zip', 'r')\n",
        "  zip_ref.extractall('data/test_images')\n",
        "  zip_ref.close()\n",
        "  \n",
        "if not os.path.exists(\"GWB_200x200_JPEG.zip\"):\n",
        "  !wget https://s3.eu-west-3.amazonaws.com/deep.skoo.ch/GWB_200x200_JPEG.zip\n",
        "  zip_ref = zipfile.ZipFile('GWB_200x200_JPEG.zip', 'r')\n",
        "  zip_ref.extractall('data/test_images')\n",
        "  zip_ref.close()    \n",
        "\n",
        "if not os.path.exists(\"crop_part1.tar.gz\"):\n",
        "  !gsutil cp gs://{bucket_name}/crop_part1.tar.gz ./crop_part1.tar.gz\n",
        "  !tar -xf crop_part1.tar.gz -C data/test_images"
      ],
      "execution_count": 7,
      "outputs": [
        {
          "output_type": "stream",
          "text": [
            "--2019-05-23 05:28:45--  https://cswww.essex.ac.uk/mv/allfaces/faces95.zip\n",
            "Resolving cswww.essex.ac.uk (cswww.essex.ac.uk)... 155.245.92.179\n",
            "Connecting to cswww.essex.ac.uk (cswww.essex.ac.uk)|155.245.92.179|:443... connected.\n",
            "HTTP request sent, awaiting response... 200 OK\n",
            "Length: 6425534 (6.1M) [application/zip]\n",
            "Saving to: ‘faces95.zip’\n",
            "\n",
            "\rfaces95.zip           0%[                    ]       0  --.-KB/s               \rfaces95.zip         100%[===================>]   6.13M  36.8MB/s    in 0.2s    \n",
            "\n",
            "2019-05-23 05:28:45 (36.8 MB/s) - ‘faces95.zip’ saved [6425534/6425534]\n",
            "\n",
            "--2019-05-23 05:28:47--  https://s3.eu-west-3.amazonaws.com/deep.skoo.ch/GWB_200x200_JPEG.zip\n",
            "Resolving s3.eu-west-3.amazonaws.com (s3.eu-west-3.amazonaws.com)... 52.95.156.53\n",
            "Connecting to s3.eu-west-3.amazonaws.com (s3.eu-west-3.amazonaws.com)|52.95.156.53|:443... connected.\n",
            "HTTP request sent, awaiting response... 200 OK\n",
            "Length: 15795698 (15M) [application/zip]\n",
            "Saving to: ‘GWB_200x200_JPEG.zip’\n",
            "\n",
            "GWB_200x200_JPEG.zi 100%[===================>]  15.06M  79.6MB/s    in 0.2s    \n",
            "\n",
            "2019-05-23 05:28:48 (79.6 MB/s) - ‘GWB_200x200_JPEG.zip’ saved [15795698/15795698]\n",
            "\n",
            "Copying gs://pneumonia/crop_part1.tar.gz...\n",
            "/ [1 files][ 43.3 MiB/ 43.3 MiB]                                                \n",
            "Operation completed over 1 objects/43.3 MiB.                                     \n"
          ],
          "name": "stdout"
        }
      ]
    },
    {
      "cell_type": "code",
      "metadata": {
        "colab_type": "code",
        "id": "VFBEkk5aT0Xy",
        "colab": {}
      },
      "source": [
        "BATCH_SIZE = 24\n",
        "data_path = \"data/images\"\n",
        "\n",
        "transform = torchvision.transforms.Compose(\n",
        "    [torchvision.transforms.RandomHorizontalFlip(p=0.5), \n",
        "      torchvision.transforms.RandomApply([\n",
        "        torchvision.transforms.RandomAffine(degrees=5, translate=(0.05,0.05), scale=(0.9,1.1), shear=2, resample=False, fillcolor=0),        \n",
        "      ], 0.6),\n",
        "      torchvision.transforms.RandomResizedCrop((192,160), scale=(0.85, 1.15)),\n",
        "      torchvision.transforms.ToTensor(),\n",
        "    ])\n",
        "\n",
        "transform2 = torchvision.transforms.Compose(\n",
        "    [torchvision.transforms.RandomResizedCrop((192,160), scale=(0.95, 1.05)),\n",
        "      torchvision.transforms.ToTensor(),\n",
        "    ])\n",
        "\n",
        "train_dataset = torchvision.datasets.ImageFolder(\n",
        "        root=data_path,\n",
        "        transform=transform\n",
        "    )\n",
        "\n",
        "train_loader = torch.utils.data.DataLoader(\n",
        "    train_dataset,\n",
        "    batch_size=BATCH_SIZE,\n",
        "    num_workers=2,\n",
        "    shuffle=True\n",
        ")\n",
        "\n",
        "test_dataset = torchvision.datasets.ImageFolder(\n",
        "        root=\"data/test_images\",\n",
        "        transform=transform2\n",
        "    )\n",
        "\n",
        "test_loader = torch.utils.data.DataLoader(\n",
        "    test_dataset,\n",
        "    batch_size=32,\n",
        "    num_workers=1,\n",
        "    shuffle=True\n",
        ")"
      ],
      "execution_count": 0,
      "outputs": []
    },
    {
      "cell_type": "code",
      "metadata": {
        "colab_type": "code",
        "id": "HoiSqJqxbwYq",
        "outputId": "357f857b-c1d7-474c-e239-c45742211605",
        "colab": {
          "base_uri": "https://localhost:8080/",
          "height": 269
        }
      },
      "source": [
        "for (images, _) in train_loader:\n",
        "  plt.imshow(images[0].permute(1,2,0))\n",
        "  plt.show()\n",
        "  break"
      ],
      "execution_count": 7,
      "outputs": [
        {
          "output_type": "display_data",
          "data": {
            "image/png": "[encoded data removed]",
            "text/plain": [
              "<Figure size 432x288 with 1 Axes>"
            ]
          },
          "metadata": {
            "tags": []
          }
        }
      ]
    },
    {
      "cell_type": "code",
      "metadata": {
        "colab_type": "code",
        "id": "lvra0533ufqj",
        "outputId": "e0a67ebe-4d2c-45e8-d064-246f0b39f687",
        "colab": {
          "base_uri": "https://localhost:8080/",
          "height": 269
        }
      },
      "source": [
        "for (images, _) in test_loader:\n",
        "  plt.imshow(images[0].permute(1,2,0))\n",
        "  plt.show()\n",
        "  break"
      ],
      "execution_count": 8,
      "outputs": [
        {
          "output_type": "display_data",
          "data": {
            "image/png": "[encoded data removed]",
            "text/plain": [
              "<Figure size 432x288 with 1 Axes>"
            ]
          },
          "metadata": {
            "tags": []
          }
        }
      ]
    },
    {
      "cell_type": "code",
      "metadata": {
        "colab_type": "code",
        "id": "grDrowsxNvjz",
        "outputId": "5ed0e9dd-ab78-4c31-d54b-9275f4f06340",
        "colab": {
          "base_uri": "https://localhost:8080/",
          "height": 238
        }
      },
      "source": [
        "train_dataset"
      ],
      "execution_count": 9,
      "outputs": [
        {
          "output_type": "execute_result",
          "data": {
            "text/plain": [
              "Dataset ImageFolder\n",
              "    Number of datapoints: 218324\n",
              "    Root Location: data/images\n",
              "    Transforms (if any): Compose(\n",
              "                             RandomHorizontalFlip(p=0.5)\n",
              "                             RandomApply(\n",
              "                             p=0.6\n",
              "                             RandomAffine(degrees=(-5, 5), translate=(0.05, 0.05), scale=(0.9, 1.1), shear=(-2, 2))\n",
              "                         )\n",
              "                             RandomResizedCrop(size=(192, 160), scale=(0.85, 1.15), ratio=(0.75, 1.3333), interpolation=PIL.Image.BILINEAR)\n",
              "                             ToTensor()\n",
              "                         )\n",
              "    Target Transforms (if any): None"
            ]
          },
          "metadata": {
            "tags": []
          },
          "execution_count": 9
        }
      ]
    },
    {
      "cell_type": "code",
      "metadata": {
        "colab_type": "code",
        "id": "9x_7Ko2YuypM",
        "outputId": "bcb9d9e9-c98d-483d-9468-4ce5bb38c709",
        "colab": {
          "base_uri": "https://localhost:8080/",
          "height": 153
        }
      },
      "source": [
        "test_dataset"
      ],
      "execution_count": 10,
      "outputs": [
        {
          "output_type": "execute_result",
          "data": {
            "text/plain": [
              "Dataset ImageFolder\n",
              "    Number of datapoints: 11684\n",
              "    Root Location: data/test_images\n",
              "    Transforms (if any): Compose(\n",
              "                             RandomResizedCrop(size=(192, 160), scale=(0.95, 1.05), ratio=(0.75, 1.3333), interpolation=PIL.Image.BILINEAR)\n",
              "                             ToTensor()\n",
              "                         )\n",
              "    Target Transforms (if any): None"
            ]
          },
          "metadata": {
            "tags": []
          },
          "execution_count": 10
        }
      ]
    },
    {
      "cell_type": "code",
      "metadata": {
        "colab_type": "code",
        "id": "EVLKgjhj4Nsm",
        "colab": {}
      },
      "source": [
        "def output_size(i, k=3, p=2, s=1, d=1):\n",
        "    o = (i + 2*p - k - (k-1)*(d-1))/s + 1\n",
        "    return o\n",
        "  \n",
        "output_size(i=64, k=3, p=1)"
      ],
      "execution_count": 0,
      "outputs": []
    },
    {
      "cell_type": "markdown",
      "metadata": {
        "colab_type": "text",
        "id": "KWnRRtR4bTJQ"
      },
      "source": [
        "### Bigger Model"
      ]
    },
    {
      "cell_type": "code",
      "metadata": {
        "colab_type": "code",
        "id": "FJV6t-RxAAoh",
        "colab": {}
      },
      "source": [
        "epoch_list = []"
      ],
      "execution_count": 0,
      "outputs": []
    },
    {
      "cell_type": "code",
      "metadata": {
        "colab_type": "code",
        "id": "fbiSNI4Fy6H2",
        "colab": {}
      },
      "source": [
        "def vae_loss(x, x_hat, mu=None, logvar=None, d_faked=None):\n",
        "    # MSE for reconstructions\n",
        "    MSE = nn.functional.mse_loss(x, x_hat)\n",
        "    \n",
        "    # variational loss IF we are doing variational\n",
        "    if mu is not None and logvar is not None:\n",
        "      KLD = -0.5 * torch.sum(1 + logvar - mu.pow(2) - logvar.exp())\n",
        "      KLD /= (BATCH_SIZE * 192 * 160)\n",
        "      MSE = MSE + KLD\n",
        "    \n",
        "    # weight the MSE loss higher so the discriminator loss doesn't overwhelm it\n",
        "    if d_faked is not None:\n",
        "        ones = torch.ones(x.shape[0]).cuda()\n",
        "        g_loss =  nn.functional.binary_cross_entropy_with_logits(d_faked, ones, reduction=\"mean\") * 0.5\n",
        "        MSE *= 200\n",
        "        MSE += g_loss\n",
        "        \n",
        "    return MSE\n",
        "  \n",
        "def disc_loss(d_true, d_faked):\n",
        "    ones = torch.ones(d_true.shape[0]).cuda()\n",
        "    zeros = torch.zeros(d_true.shape[0]).cuda()\n",
        "    d_loss_real = nn.functional.binary_cross_entropy_with_logits(d_true, ones, reduction=\"mean\")\n",
        "    d_loss_fake = nn.functional.binary_cross_entropy_with_logits(d_faked, zeros, reduction=\"mean\")\n",
        "    d_loss = d_loss_real + d_loss_fake\n",
        "\n",
        "\n",
        "    return d_loss\n",
        "\n",
        "def train_discriminator(discriminator, generator, train_loader, d_optimizer, g_optimizer, train_gen=False, test_loader=None, print_metrics=1000, extra_gen_train=2, plot_images=4000, num_epochs=10, display_images=5, g_scheduler=None, d_scheduler=None, d_save_path=\"disc_model_4_var.pt\", g_save_path=\"g_model_4_var.pt\"):\n",
        "    \n",
        "    # if we aren't training the generator we don't need to train the discriminator less than every epoch\n",
        "    if train_gen is False:\n",
        "      extra_gen_train = 1\n",
        "      \n",
        "    try:\n",
        "      for epoch in range(num_epochs):\n",
        "          discriminator.train()\n",
        "          generator.train()\n",
        "          d_upload_path = d_save_path.split(\".\")[0] + str(len(epoch_list) % 2) + \".pt\" \n",
        "          g_upload_path = g_save_path.split(\".\")[0] + str(len(epoch_list) % 2) + \".pt\" \n",
        "          \n",
        "          d_tr_loss = 0.0\n",
        "          g_tr_loss = 0.0\n",
        "          d_test_loss = 0.0\n",
        "          g_test_loss = 0.0\n",
        "          test_loss = 0.0\n",
        "          test_d_loss = 0\n",
        "          \n",
        "          test_d_acc = []\n",
        "          batch_losses = []\n",
        "          batch_accuracies = []\n",
        "          \n",
        "          for i, (inputs, _) in enumerate(train_loader):\n",
        "              if use_cuda and torch.cuda.is_available():\n",
        "                  inputs = inputs.cuda()\n",
        "\n",
        "              d_optimizer.zero_grad()\n",
        "              g_optimizer.zero_grad()\n",
        "              \n",
        "              # generate our fake images\n",
        "              recon, code, logvar = generator(inputs)\n",
        "             \n",
        "              # feed the fake images into the discriminator\n",
        "              faked_logits = discriminator(recon)\n",
        "              \n",
        "              # feed the real images into the discriminator\n",
        "              real_logits = discriminator(inputs)\n",
        "              d_loss = disc_loss(real_logits, faked_logits)\n",
        "              \n",
        "              # update the discriminator every other step to give the generator time to catch up\n",
        "              if i % extra_gen_train == 0:\n",
        "                d_loss.backward(retain_graph=True)\n",
        "                d_optimizer.step()\n",
        "\n",
        "              # calculate the accuracy of our discriminator\n",
        "              fake_preds = torch.sigmoid(faked_logits)\n",
        "              real_preds = torch.sigmoid(real_logits)\n",
        "              \n",
        "              fake_acc = torch.sum(fake_preds < 0.5).double()\n",
        "              real_acc = torch.sum(real_preds >= 0.5).double()\n",
        "              d_accuracy = (fake_acc + real_acc) / (BATCH_SIZE * 2.0)\n",
        "              batch_accuracies.append(d_accuracy.item())\n",
        "              \n",
        "              # update the generator\n",
        "              g_loss = vae_loss(inputs, recon, code, logvar=logvar, d_faked=faked_logits)\n",
        "              if train_gen:\n",
        "                g_loss.backward()\n",
        "                g_optimizer.step()\n",
        "              g_tr_loss += g_loss.item()\n",
        "                  \n",
        "              d_tr_loss += d_loss.item()\n",
        "              batch_losses.append(g_loss.item())\n",
        "            \n",
        "              if i > 0 and print_metrics != 0 and i % print_metrics == 0:\n",
        "                print(\"\\tEpoch\", len(epoch_list), \"batch\", i, \"gen loss:\", g_loss.item(), \"disc loss:\", d_loss.item(), \"disc acc:\", np.mean(batch_accuracies))\n",
        "\n",
        "              if i % plot_images == 0 and i > 0:\n",
        "                fig, ax = plt.subplots(1, 2, figsize=(6,6))\n",
        "                ax[0].imshow(inputs[0].cpu().permute(1, 2, 0) )\n",
        "                ax[1].imshow(recon[0].cpu().detach().permute(1, 2, 0) )\n",
        "                plt.show()\n",
        "          \n",
        "          if epoch % display_images == 0:\n",
        "              # plot a few random images\n",
        "              try:\n",
        "                fig, ax = plt.subplots(2, 2, figsize=(6,6))\n",
        "                fig.suptitle(\"Training Images\")\n",
        "                ax[0,0].imshow(inputs[0].cpu().permute(1, 2, 0) )\n",
        "                ax[0,1].imshow(recon[0].cpu().detach().permute(1, 2, 0) )\n",
        "                ax[1,0].imshow(inputs[1].cpu().permute(1, 2, 0) )\n",
        "                ax[1,1].imshow(recon[1].cpu().detach().permute(1, 2, 0) )\n",
        "                plt.show()\n",
        "              except Exception as e:\n",
        "                  print(e)\n",
        "\n",
        "              torch.save(discriminator.state_dict(), d_save_path)\n",
        "              torch.save(generator.state_dict(), g_save_path)\n",
        "          \n",
        "          if test_loader is not None:\n",
        "            generator.eval()\n",
        "            discriminator.eval()\n",
        "            with torch.no_grad():\n",
        "              for i, (inputs, _) in enumerate(test_loader):\n",
        "                if use_cuda and torch.cuda.is_available():\n",
        "                  inputs = inputs.cuda()\n",
        "                \n",
        "                # autoencode the input images\n",
        "                recon, code, logvar = generator(inputs)\n",
        "\n",
        "                if generator.variational:\n",
        "                    loss = vae_loss(inputs, recon, code, logvar=logvar)\n",
        "                else:  \n",
        "                    loss = vae_loss(inputs, recon, code, logvar=None)\n",
        "                test_loss += loss.item()\n",
        "                \n",
        "                # test the discriminator\n",
        "                faked_logits = discriminator(recon)                \n",
        "                real_logits = discriminator(inputs)\n",
        "                d_loss = disc_loss(real_logits, faked_logits)\n",
        "                test_d_loss += d_loss.item()\n",
        "                \n",
        "                # calculate the accuracy of our discriminator\n",
        "                fake_preds = torch.sigmoid(faked_logits)\n",
        "                real_preds = torch.sigmoid(real_logits)\n",
        "\n",
        "                fake_acc = torch.sum(fake_preds < 0.5).double()\n",
        "                real_acc = torch.sum(real_preds >= 0.5).double()\n",
        "                d_accuracy = (fake_acc + real_acc) / (BATCH_SIZE * 2.0)\n",
        "                test_d_acc.append(d_accuracy.item())\n",
        "            try:\n",
        "                fig, ax = plt.subplots(2, 2, figsize=(7,7))\n",
        "                fig.suptitle(\"Test Images\")\n",
        "                ax[0,0].imshow(inputs[0].cpu().permute(1, 2, 0) )\n",
        "                ax[0,1].imshow(recon[0].cpu().detach().permute(1, 2, 0) )\n",
        "                ax[1,0].imshow(inputs[1].cpu().permute(1, 2, 0) )\n",
        "                ax[1,1].imshow(recon[1].cpu().detach().permute(1, 2, 0) )\n",
        "                plt.show()\n",
        "            except Exception as e:\n",
        "                print(e)\n",
        "                  \n",
        "          print(\"Epoch:\", len(epoch_list), \"Gen Train Loss:\", g_tr_loss, \"Disc Train Loss:\", d_tr_loss, \"Test Loss:\", test_loss, \"Avg Tr Disc Acc:\", np.mean(batch_accuracies), \"Avg Te Disc Acc:\", np.mean(test_d_acc))\n",
        "          \n",
        "          epoch_list.append(epoch)\n",
        "          \n",
        "          if g_scheduler is not None and epoch % 5 == 0 and epoch > 1:\n",
        "              g_scheduler.step()\n",
        "              \n",
        "          if d_scheduler is not None and epoch % 5 == 0 and epoch > 1:\n",
        "              d_scheduler.step()\n",
        " \n",
        "    except KeyboardInterrupt:\n",
        "      print(\"Interrupting... Saving model...\")\n",
        "      torch.save(generator.state_dict(), g_save_path)\n",
        "      torch.save(discriminator.state_dict(), d_save_path)\n",
        "      !gsutil cp {g_save_path} gs://{bucket_name}/{g_upload_path}\n",
        "      !gsutil cp {d_save_path} gs://{bucket_name}/{d_upload_path}\n",
        "      return \n",
        "    \n",
        "    !gsutil cp {g_save_path} gs://{bucket_name}/{g_upload_path}\n",
        "    !gsutil cp {d_save_path} gs://{bucket_name}/{d_upload_path}\n",
        "      \n",
        "def count_params(model):\n",
        "  model_parameters = filter(lambda p: p.requires_grad, model.parameters())\n",
        "  params = sum([np.prod(p.size()) for p in model_parameters])\n",
        "  return params               "
      ],
      "execution_count": 0,
      "outputs": []
    },
    {
      "cell_type": "code",
      "metadata": {
        "colab_type": "code",
        "id": "LB63-P6PbVOU",
        "colab": {}
      },
      "source": [
        "from torch import nn\n",
        "class Encoder(nn.Module):\n",
        "    def __init__(self, latent_dim, variational=False):\n",
        "        super(Encoder, self).__init__()\n",
        "        # block 1\n",
        "        self.conv1 = nn.Conv2d(3, 32, 3, padding=1)\n",
        "        self.bn1 = nn.BatchNorm2d(32)\n",
        "        self.conv2 = nn.Conv2d(32, 32, 3, padding=1)        \n",
        "        self.bn2 = nn.BatchNorm2d(32)\n",
        "        self.conv3 = nn.Conv2d(32, 32, 3, padding=1)\n",
        "        self.bn3 = nn.BatchNorm2d(32)\n",
        "        self.downsize1 = nn.Conv2d(96, 32, 1)\n",
        "        self.bn_ds1 = nn.BatchNorm2d(32)\n",
        "        \n",
        "        # block 2\n",
        "        self.conv4 = nn.Conv2d(32, 64, 3, padding=1)\n",
        "        self.bn4 = nn.BatchNorm2d(64)\n",
        "        self.conv5 = nn.Conv2d(64, 64, 3, padding=1)\n",
        "        self.bn5 = nn.BatchNorm2d(64)\n",
        "        self.conv6 = nn.Conv2d(64, 64, 3, padding=1)\n",
        "        self.bn6 = nn.BatchNorm2d(64)\n",
        "        self.downsize2 = nn.Conv2d(192, 64, 1)\n",
        "        self.bn_ds2 = nn.BatchNorm2d(64)\n",
        "        \n",
        "        # block 3\n",
        "        self.conv7 = nn.Conv2d(64, 128, 3, padding=1)\n",
        "        self.bn7 = nn.BatchNorm2d(128)\n",
        "        self.conv8 = nn.Conv2d(128, 128, 3, padding=1)\n",
        "        self.bn8 = nn.BatchNorm2d(128)\n",
        "        self.conv9 = nn.Conv2d(128, 128, 3, padding=1)\n",
        "        self.bn9 = nn.BatchNorm2d(128)\n",
        "        self.downsize3 = nn.Conv2d(384, 128, 1)\n",
        "        self.bn_ds3 = nn.BatchNorm2d(128)\n",
        "        \n",
        "        # block 4\n",
        "        self.conv10 = nn.Conv2d(128, 256, 3, padding=1)\n",
        "        self.bn10 = nn.BatchNorm2d(256)\n",
        "        self.conv11 = nn.Conv2d(256, 256, 3, padding=1)\n",
        "        self.bn11 = nn.BatchNorm2d(256)\n",
        "        self.downsize4 = nn.Conv2d(512, 256, 1)\n",
        "        self.bn_ds4 = nn.BatchNorm2d(256)\n",
        "        \n",
        "        # block 5\n",
        "        self.conv12 = nn.Conv2d(256, 384, 3, padding=1)\n",
        "        self.bn12 = nn.BatchNorm2d(384)\n",
        "        self.conv13 = nn.Conv2d(384, 384, 3, padding=1)\n",
        "        self.bn13 = nn.BatchNorm2d(384)\n",
        "        self.downsize5 = nn.Conv2d(768, 384, 1)\n",
        "        self.bn_ds5 = nn.BatchNorm2d(384)\n",
        "        \n",
        "        # second path - skip from block 2 on\n",
        "        self.conv14 = nn.Conv2d(64, 128, 3, padding=1, stride=2)\n",
        "        self.bn14 = nn.BatchNorm2d(128)\n",
        "        self.conv15 = nn.Conv2d(128, 128, 3, padding=1, stride=2)\n",
        "        self.bn15 = nn.BatchNorm2d(128)\n",
        "        \n",
        "        self.fc1 = nn.Conv2d(512, 2048, 2) \n",
        "        self.fc2 = nn.Conv2d(2048, latent_dim, 1) # code layer\n",
        "        \n",
        "        self.variational = variational\n",
        "        if variational:\n",
        "          self.fc3 = nn.Conv2d(2048, latent_dim, 1) # variance layer\n",
        "        \n",
        "        self.relu = nn.ReLU()\n",
        "        self.max_pool = nn.MaxPool2d(2,2)\n",
        "        self.gap = nn.AdaptiveMaxPool2d(2)\n",
        "        \n",
        "        \n",
        "    def encode(self, x):\n",
        "        # input 192x160x3 - output 96x80x32\n",
        "        h1 = self.relu(self.bn1(self.conv1(x)))\n",
        "        h2 = self.relu(self.bn2(self.conv2(h1)))\n",
        "        h3 = self.relu(self.bn3(self.conv3(h2)))\n",
        "        ds1 = self.relu(self.bn_ds1(self.downsize1(torch.cat((h1,h2,h3), 1))))\n",
        "        mp1 = self.max_pool(ds1)\n",
        "        \n",
        "        # input 89x89x32 - output 64x48x40\n",
        "        h4 = self.relu(self.bn4(self.conv4(mp1)))\n",
        "        h5 = self.relu(self.bn5(self.conv5(h4)))\n",
        "        h6 = self.relu(self.bn6(self.conv6(h5)))\n",
        "        ds2 = self.relu(self.bn_ds2(self.downsize2(torch.cat((h4,h5,h6), 1))))\n",
        "        mp2 = self.max_pool(ds2)\n",
        "        \n",
        "        # input 54x44x64 - output 128x24x20\n",
        "        h7 = self.relu(self.bn7(self.conv7(mp2)))\n",
        "        h8 = self.relu(self.bn8(self.conv8(h7)))\n",
        "        h9 = self.relu(self.bn9(self.conv9(h8)))\n",
        "        ds3 = self.relu(self.bn_ds3(self.downsize3(torch.cat((h7,h8,h9), 1))))\n",
        "        mp3 = self.max_pool(ds3)\n",
        "        \n",
        "        # input 128x22x22 - output 256x12x10\n",
        "        h10 = self.relu(self.bn10(self.conv10(mp3)))\n",
        "        h11 = self.relu(self.bn11(self.conv11(h10)))\n",
        "        ds4 = self.relu(self.bn_ds4(self.downsize4(torch.cat((h10,h11), 1))))\n",
        "        mp4 = self.max_pool(ds4)\n",
        "        \n",
        "        # input 256x11x11 - output 384x6x5\n",
        "        h12 = self.relu(self.bn12(self.conv12(mp4)))\n",
        "        h13 = self.relu(self.bn13(self.conv13(h12)))\n",
        "        ds5 = self.relu(self.bn_ds5(self.downsize5(torch.cat((h12,h13), 1))))\n",
        "        mp5 = self.max_pool(ds5)\n",
        "        \n",
        "        # second path - input 64x48x40\n",
        "        # output 64x12x10\n",
        "        h14 = self.relu(self.bn14(self.conv14(mp2)))\n",
        "        h15 = self.relu(self.bn15(self.conv15(h14)))\n",
        "        # output 64x6x5\n",
        "        mp6 = self.max_pool(h15)\n",
        "        \n",
        "        # concat the paths\n",
        "        concat = self.gap(torch.cat((mp5, mp6), 1))\n",
        "        \n",
        "        # input 4x4x64 - output latent_dimx1\n",
        "        fc1 = self.relu(self.fc1(concat))\n",
        "        code = self.fc2(fc1)\n",
        "        \n",
        "        if self.variational:\n",
        "          logvar = self.fc3(fc1)\n",
        "        else:\n",
        "          logvar = None\n",
        "  \n",
        "        return code, logvar\n",
        "  \n",
        "    def forward(self, x):\n",
        "        code, logvar = self.encode(x)\n",
        "        return code, logvar\n",
        "\n",
        "class Decoder(nn.Module):\n",
        "    def __init__(self, latent_dim):\n",
        "        super(Decoder, self).__init__()\n",
        "        self.fc1 = nn.ConvTranspose2d(latent_dim, 512, (6,5), stride=1)\n",
        "        self.bn0 = nn.BatchNorm2d(512)\n",
        "        self.deconv1 = nn.ConvTranspose2d(512, 384, 2, stride=2, output_padding=0)\n",
        "        self.bn1 = nn.BatchNorm2d(384)\n",
        "        self.deconv3 = nn.ConvTranspose2d(384, 256, 2, stride=2, output_padding=0)\n",
        "        self.bn3 = nn.BatchNorm2d(256)\n",
        "        self.deconv4 = nn.ConvTranspose2d(256, 224, 2, stride=2, output_padding=0)\n",
        "        self.bn4 = nn.BatchNorm2d(224)\n",
        "        self.deconv5 = nn.ConvTranspose2d(224, 192, 2, stride=2, output_padding=0)\n",
        "        self.bn5 = nn.BatchNorm2d(192)\n",
        "        self.deconv6 = nn.ConvTranspose2d(192, 128, 2, stride=2, output_padding=0)\n",
        "        self.bn6 = nn.BatchNorm2d(128)\n",
        "        self.deconv8 = nn.Conv2d(128, 3, 1, stride=1)\n",
        "        self.relu = nn.ReLU()\n",
        "        self.sigmoid = nn.Sigmoid()\n",
        "  \n",
        "    def decode(self, x):\n",
        "        # input latent_dimx1 - output 2048x1\n",
        "        h0 = self.relu(self.bn0(self.fc1(x)))\n",
        "        \n",
        "        # in 5x5 - out 10x10\n",
        "        h1 = self.relu(self.bn1(self.deconv1(h0)))\n",
        "        \n",
        "        # in 10x10 - out 20x20\n",
        "        h3 = self.relu(self.bn3(self.deconv3(h1)))\n",
        "        h4 = self.relu(self.bn4(self.deconv4(h3)))\n",
        "        h5 = self.relu(self.bn5(self.deconv5(h4)))\n",
        "        h6 = self.relu(self.bn6(self.deconv6(h5)))\n",
        "        h8 = self.deconv8(h6)\n",
        "      \n",
        "        return self.sigmoid(h8)\n",
        "    \n",
        "    def forward(self, x):\n",
        "        return self.decode(x)\n",
        "    \n",
        "# a model that uses the Encoder and Decoder\n",
        "class SingleModel(nn.Module):\n",
        "    def __init__(self, encoder, decoder, variational=False):\n",
        "        super(SingleModel, self).__init__()\n",
        "        self.encoder = encoder\n",
        "        self.decoder = decoder\n",
        "        self.variational = variational\n",
        "\n",
        "    def sample(self, mu, logvar):\n",
        "        std = logvar.mul(0.5).exp_()\n",
        "        eps = torch.autograd.Variable(std.data.new(std.size()).normal_())\n",
        "        return eps.mul(std).add_(mu)\n",
        "\n",
        "    def forward(self, X):\n",
        "        mu, logvar = encoder(X)\n",
        "\n",
        "        if self.training and logvar is not None:\n",
        "            z = self.sample(mu, logvar)\n",
        "        else:\n",
        "            z = mu\n",
        "            \n",
        "        recon = self.decoder(z)\n",
        "        \n",
        "        return recon, mu, logvar\n",
        "\n",
        "class Discriminator(nn.Module):\n",
        "    def __init__(self):\n",
        "        super(Discriminator, self).__init__()\n",
        "        # block 1\n",
        "        self.conv1 = nn.Conv2d(3, 32, 3, padding=1)\n",
        "        self.bn1 = nn.BatchNorm2d(32)\n",
        "        self.conv2 = nn.Conv2d(32, 32, 3, padding=1)        \n",
        "        self.bn2 = nn.BatchNorm2d(32)\n",
        "        self.conv3 = nn.Conv2d(32, 32, 3, padding=1)\n",
        "        self.bn3 = nn.BatchNorm2d(32)\n",
        "        \n",
        "        # block 2\n",
        "        self.conv4 = nn.Conv2d(32, 64, 3, padding=1)\n",
        "        self.bn4 = nn.BatchNorm2d(64)\n",
        "        self.conv5 = nn.Conv2d(64, 64, 3, padding=1)\n",
        "        self.bn5 = nn.BatchNorm2d(64)\n",
        "        self.conv6 = nn.Conv2d(64, 64, 3, padding=1)\n",
        "        self.bn6 = nn.BatchNorm2d(64)\n",
        "        \n",
        "        # block 3\n",
        "        self.conv7 = nn.Conv2d(64, 128, 3, padding=1)\n",
        "        self.bn7 = nn.BatchNorm2d(128)\n",
        "        self.conv8 = nn.Conv2d(128, 128, 3, padding=1)\n",
        "        self.bn8 = nn.BatchNorm2d(128)\n",
        "        self.conv9 = nn.Conv2d(128, 128, 3, padding=1)\n",
        "        self.bn9 = nn.BatchNorm2d(128)\n",
        "        \n",
        "        # block 4\n",
        "        self.conv10 = nn.Conv2d(128, 256, 3, padding=1)\n",
        "        self.bn10 = nn.BatchNorm2d(256)\n",
        "        self.conv11 = nn.Conv2d(256, 256, 3, padding=1)\n",
        "        self.bn11 = nn.BatchNorm2d(256)\n",
        "        \n",
        "        # block 5\n",
        "        self.conv12 = nn.Conv2d(256, 512, 3, padding=1)\n",
        "        self.bn12 = nn.BatchNorm2d(512)\n",
        "        self.conv13 = nn.Conv2d(512, 512, 3, padding=1)\n",
        "        self.bn13 = nn.BatchNorm2d(512)\n",
        "        \n",
        "        self.fc1 = nn.Conv2d(512, 1024, 1) # code layer\n",
        "        self.fc2 = nn.Conv2d(1024, 1, 1)\n",
        "        \n",
        "        self.relu = nn.ReLU()\n",
        "        self.max_pool = nn.MaxPool2d(2,2)\n",
        "        self.gap = nn.AdaptiveMaxPool2d(1)\n",
        "        \n",
        "        self.dropout1 = nn.Dropout2d(0.25)\n",
        "        self.dropout2 = nn.Dropout2d(0.50)\n",
        "        \n",
        "    def discriminate(self, x):\n",
        "        # input 192x160x3 - output 96x80x32\n",
        "        h1 = self.relu(self.bn1(self.conv1(x)))\n",
        "        h2 = self.relu(self.bn2(self.conv2(h1)))\n",
        "        h3 = self.relu(self.bn3(self.conv3(h2)))\n",
        "        mp1 = self.max_pool(h3)\n",
        "        \n",
        "        # input 89x89x32 - output 64x48x40\n",
        "        h4 = self.relu(self.bn4(self.conv4(mp1)))\n",
        "        h5 = self.relu(self.bn5(self.conv5(h4)))\n",
        "        h6 = self.relu(self.bn6(self.conv6(h5)))\n",
        "        mp2 = self.max_pool(h6)\n",
        "        \n",
        "        # input 54x44x64 - output 128x24x20\n",
        "        h7 = self.relu(self.bn7(self.conv7(mp2)))\n",
        "        h8 = self.relu(self.bn8(self.conv8(h7)))\n",
        "        h9 = self.relu(self.bn9(self.conv9(h8)))\n",
        "        mp3 = self.max_pool(h9)\n",
        "        \n",
        "        # input 128x22x22 - output 256x12x10\n",
        "        h10 = self.relu(self.bn10(self.conv10(mp3)))\n",
        "        h11 = self.relu(self.bn11(self.conv11(h10)))\n",
        "        mp4 = self.max_pool(h11)\n",
        "        \n",
        "        # input 256x11x11 - output 384x6x5\n",
        "        h12 = self.relu(self.bn12(self.conv12(mp4)))\n",
        "        h13 = self.relu(self.bn13(self.conv13(h12)))\n",
        "        mp5 = self.max_pool(h13)\n",
        "        gap = self.dropout1(self.gap(mp5))\n",
        "        \n",
        "        # input 4x4x64 - output latent_dimx1\n",
        "        fc1 = self.dropout2(self.relu(self.fc1(gap)))\n",
        "        logits = self.fc2(fc1)\n",
        "        \n",
        "        return torch.squeeze(logits)\n",
        "  \n",
        "    def forward(self, x):\n",
        "        return self.discriminate(x)"
      ],
      "execution_count": 0,
      "outputs": []
    },
    {
      "cell_type": "code",
      "metadata": {
        "colab_type": "code",
        "id": "0JGv_rs2fJkA",
        "outputId": "6c32ba19-f19f-4b8f-87c2-2fbac517d23f",
        "colab": {
          "base_uri": "https://localhost:8080/",
          "height": 68
        }
      },
      "source": [
        "from torch import optim\n",
        "import numpy as np\n",
        "\n",
        "  ## YOUR CODE HERE ##\n",
        "encoder = Encoder(4096, variational=True)\n",
        "decoder = Decoder(4096)\n",
        "discriminator = Discriminator()\n",
        "generator = SingleModel(encoder, decoder)\n",
        "#params = list(encoder.parameters()) + list(decoder.parameters())\n",
        "params = generator.parameters()\n",
        "\n",
        "print(\"Autoencoder Params:\", count_params(generator))\n",
        "print(\"Discriminator Params:\", count_params(discriminator))\n",
        "\n",
        "# run on GPU\n",
        "use_cuda = True\n",
        "  \n",
        "if use_cuda and torch.cuda.is_available():\n",
        "    generator.cuda()\n",
        "    discriminator.cuda()\n",
        "    \n",
        "g_optimizer = optim.Adam(params, lr=0.001)\n",
        "d_optimizer = optim.Adam(discriminator.parameters(), lr=0.007)\n",
        "g_scheduler = optim.lr_scheduler.ExponentialLR(g_optimizer, gamma=0.98)\n",
        "d_scheduler = optim.lr_scheduler.ExponentialLR(d_optimizer, gamma=0.95)\n",
        "\n",
        "try:\n",
        "    generator.load_state_dict(torch.load(\"gen_model_4_var.pt\"))\n",
        "    print(\"Autoencoder loaded\")\n",
        "except:\n",
        "    print(\"Error loading autoencoder\")\n",
        "    \n",
        "try:\n",
        "    discriminator.load_state_dict(torch.load(\"disc_model_4_var.pt\"))\n",
        "    print(\"Discriminator loaded\")\n",
        "except:\n",
        "    print(\"Error loading discriminator\")    "
      ],
      "execution_count": 27,
      "outputs": [
        {
          "output_type": "stream",
          "text": [
            "Autoencoder Params: 89878723\n",
            "Discriminator Params: 5436737\n",
            "Autoencoder loaded\n"
          ],
          "name": "stdout"
        }
      ]
    },
    {
      "cell_type": "code",
      "metadata": {
        "colab_type": "code",
        "id": "OE9n2fEeVNBf",
        "colab": {}
      },
      "source": [
        "train_discriminator(discriminator, generator, train_loader, d_optimizer=d_optimizer, g_optimizer=g_optimizer, print_metrics=500, extra_gen_train=2, train_gen=True, plot_images=2000, num_epochs=1, display_images=1, g_scheduler=g_scheduler, d_scheduler=d_scheduler, d_save_path=\"disc_model_4_var.pt\", g_save_path=\"gen_model_4_var.pt\")"
      ],
      "execution_count": 0,
      "outputs": []
    },
    {
      "cell_type": "code",
      "metadata": {
        "id": "YsbJpX3kGQcY",
        "colab_type": "code",
        "colab": {}
      },
      "source": [
        "train_discriminator(discriminator, generator, train_loader, test_loader=test_loader, d_optimizer=d_optimizer, g_optimizer=g_optimizer, num_epochs=3, print_metrics=1000, extra_gen_train=3, train_gen=True, plot_images=3000, display_images=1, g_scheduler=g_scheduler, d_scheduler=d_scheduler, d_save_path=\"disc_model_4_var.pt\", g_save_path=\"gen_model_4_var.pt\")"
      ],
      "execution_count": 0,
      "outputs": []
    },
    {
      "cell_type": "code",
      "metadata": {
        "id": "3aCOIwOUsToH",
        "colab_type": "code",
        "colab": {}
      },
      "source": [
        "train_discriminator(discriminator, generator, train_loader, test_loader=test_loader, d_optimizer=d_optimizer, g_optimizer=g_optimizer, num_epochs=1, print_metrics=1000, extra_gen_train=4, train_gen=True, plot_images=3000, display_images=1, g_scheduler=g_scheduler, d_scheduler=d_scheduler, d_save_path=\"disc_model_4_var.pt\", g_save_path=\"gen_model_4_var.pt\")"
      ],
      "execution_count": 0,
      "outputs": []
    },
    {
      "cell_type": "code",
      "metadata": {
        "id": "Cf6UVeS6BCL6",
        "colab_type": "code",
        "colab": {}
      },
      "source": [
        "train_discriminator(discriminator, generator, train_loader, test_loader=test_loader, d_optimizer=d_optimizer, g_optimizer=g_optimizer, num_epochs=3, print_metrics=1000, extra_gen_train=4, train_gen=True, plot_images=3000, display_images=1, g_scheduler=g_scheduler, d_scheduler=d_scheduler, d_save_path=\"disc_model_4_var.pt\", g_save_path=\"gen_model_4_var.pt\")"
      ],
      "execution_count": 0,
      "outputs": []
    },
    {
      "cell_type": "code",
      "metadata": {
        "id": "2JTRHYJ62PR7",
        "colab_type": "code",
        "colab": {}
      },
      "source": [
        "train_discriminator(discriminator, generator, train_loader, test_loader = test_loader, d_optimizer=d_optimizer, g_optimizer=g_optimizer, num_epochs=1, print_metrics=1000, extra_gen_train=3, train_gen=True, plot_images=3000, display_images=1, g_scheduler=g_scheduler, d_scheduler=d_scheduler, d_save_path=\"disc_model_4.pt\", g_save_path=\"gen_model_4.pt\")"
      ],
      "execution_count": 0,
      "outputs": []
    },
    {
      "cell_type": "code",
      "metadata": {
        "id": "JQjrKiFDllSa",
        "colab_type": "code",
        "colab": {}
      },
      "source": [
        "train_discriminator(discriminator, generator, train_loader, test_loader = test_loader, d_optimizer=d_optimizer, g_optimizer=g_optimizer, num_epochs=2, print_metrics=1000, extra_gen_train=2, train_gen=True, plot_images=3000, display_images=1, g_scheduler=g_scheduler, d_scheduler=d_scheduler, d_save_path=\"disc_model_4.pt\", g_save_path=\"gen_model_4.pt\")"
      ],
      "execution_count": 0,
      "outputs": []
    },
    {
      "cell_type": "code",
      "metadata": {
        "id": "R-XK1W3akJFO",
        "colab_type": "code",
        "colab": {
          "base_uri": "https://localhost:8080/",
          "height": 51
        },
        "outputId": "b658f632-2f44-4026-b82e-1261c097c83f"
      },
      "source": [
        "with torch.no_grad():\n",
        "  for (inputs,_) in train_loader:\n",
        "    recon, mu, logvar = generator(inputs.cuda())\n",
        "    faked_logits = discriminator(recon)\n",
        "    vae_loss(inputs.cuda(), recon, mu, logvar=None, d_faked=faked_logits)\n",
        "    break"
      ],
      "execution_count": 41,
      "outputs": [
        {
          "output_type": "stream",
          "text": [
            "G_loss: tensor(1.0436, device='cuda:0')\n",
            "MSE: tensor(1.3465, device='cuda:0')\n"
          ],
          "name": "stdout"
        }
      ]
    },
    {
      "cell_type": "code",
      "metadata": {
        "colab_type": "code",
        "id": "L8ZTOG6PU7OL",
        "colab": {}
      },
      "source": [
        "!mkdir data/Train\n",
        "!cp -r data/images/Training_Pictures data/Train/Images"
      ],
      "execution_count": 0,
      "outputs": []
    },
    {
      "cell_type": "code",
      "metadata": {
        "colab_type": "code",
        "id": "2aqNzUqgp8JM",
        "colab": {}
      },
      "source": [
        "train_dataset2 = torchvision.datasets.ImageFolder(\n",
        "        root=\"data/Train\",\n",
        "        transform=transform\n",
        "    )\n",
        "\n",
        "train_loader2 = torch.utils.data.DataLoader(\n",
        "    train_dataset2,\n",
        "    batch_size=BATCH_SIZE,\n",
        "    num_workers=2,\n",
        "    shuffle=True\n",
        ")"
      ],
      "execution_count": 0,
      "outputs": []
    },
    {
      "cell_type": "code",
      "metadata": {
        "colab_type": "code",
        "id": "nEgZOzcyVGad",
        "colab": {}
      },
      "source": [
        "train(model, train_loader=train_loader2, optimizer=optimizer, print_metrics=10, plot_images=1, num_epochs=25, display_images=1, scheduler=scheduler)"
      ],
      "execution_count": 0,
      "outputs": []
    },
    {
      "cell_type": "code",
      "metadata": {
        "colab_type": "code",
        "id": "D5XxOjEOVL8N",
        "colab": {}
      },
      "source": [
        "train(model, train_loader=train_loader2, optimizer=optimizer, print_metrics=10, plot_images=1, num_epochs=30, display_images=1, scheduler=scheduler)"
      ],
      "execution_count": 0,
      "outputs": []
    },
    {
      "cell_type": "code",
      "metadata": {
        "colab_type": "code",
        "id": "zEKvu8LEL-Fn",
        "colab": {}
      },
      "source": [
        "noise = np.random.normal(loc=0.3, scale=7.5, size=4096).reshape((1,4096,1,1))\n",
        "image = model.decoder(torch.from_numpy(noise).cuda().float())\n",
        "plt.imshow(image[0].cpu().detach().permute(1,2,0))\n",
        "plt.show()"
      ],
      "execution_count": 0,
      "outputs": []
    }
  ]
}
