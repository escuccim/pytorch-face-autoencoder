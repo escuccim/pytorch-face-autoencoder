{
 "cells": [
  {
   "cell_type": "code",
   "execution_count": null,
   "metadata": {
    "colab": {},
    "colab_type": "code",
    "collapsed": true,
    "id": "gCAmDkUglfWF"
   },
   "outputs": [],
   "source": [
    "import matplotlib.pyplot as plt\n",
    "import os\n",
    "import cv2\n",
    "import random\n",
    "import numpy as np\n",
    "from PIL import Image"
   ]
  },
  {
   "cell_type": "code",
   "execution_count": null,
   "metadata": {
    "colab": {},
    "colab_type": "code",
    "collapsed": true,
    "id": "fVFJTTziIR3u"
   },
   "outputs": [],
   "source": [
    "from google.colab import auth\n",
    "auth.authenticate_user()"
   ]
  },
  {
   "cell_type": "code",
   "execution_count": null,
   "metadata": {
    "colab": {
     "base_uri": "https://localhost:8080/",
     "height": 34
    },
    "colab_type": "code",
    "id": "mO4hDEiSIVZq",
    "outputId": "323ddfbd-06e9-413d-b0f6-29b68d6c24f3"
   },
   "outputs": [],
   "source": [
    "project_id = 'mammography-198911'\n",
    "bucket_name = 'pneumonia'\n",
    "\n",
    "!gcloud config set project {project_id}"
   ]
  },
  {
   "cell_type": "code",
   "execution_count": null,
   "metadata": {
    "colab": {},
    "colab_type": "code",
    "collapsed": true,
    "id": "wYSZ41KVUcAs"
   },
   "outputs": [],
   "source": [
    "def sample_files(root_dir, num_files=3):\n",
    "  total_files = 0\n",
    "  # random sample some images\n",
    "  for dir_ in dirs:\n",
    "    if \".\" not in dir_:\n",
    "      files = os.listdir(os.path.join(root_dir, dir_))\n",
    "      total_files += len(files)\n",
    "      samples = random.sample(files, num_files)\n",
    "\n",
    "      for image in samples:\n",
    "        image = plt.imread(os.path.join(root_dir, dir_, image))\n",
    "        plt.imshow(image)\n",
    "        plt.title(str(image.shape))\n",
    "        plt.show()\n",
    "\n",
    "  print(\"Total Files:\", total_files)\n",
    "  \n",
    "def clean_files(root_dir, resize=True):\n",
    "  dirs = os.listdir(root_dir)\n",
    "\n",
    "  for dir_ in dirs:\n",
    "      if \".\" not in dir_:\n",
    "          files = os.listdir(os.path.join(root_dir, dir_))\n",
    "          for file in files:\n",
    "              image = plt.imread(os.path.join(root_dir, dir_, file))\n",
    "              # remove B&W images\n",
    "              if len(image.shape) != 3:\n",
    "                  os.remove(os.path.join(root_dir, dir_, file))\n",
    "              # remove images that are too small\n",
    "              elif image.shape[0] < 190 or image.shape[1] < 160:\n",
    "                  os.remove(os.path.join(root_dir, dir_, file))\n",
    "              # remove specific manufactured images that are useless\n",
    "              #       elif image.shape[0] == 500 and image.shape[1] != 500:\n",
    "              #         os.remove(os.path.join(root_dir, dir_, file))\n",
    "              # remove images that are oddly shaped\n",
    "              elif image.shape[0] >= (image.shape[1] * 1.5):\n",
    "                  os.remove(os.path.join(root_dir, dir_, file))\n",
    "              # remove images that are the wrong proportions\n",
    "              elif image.shape[1] > image.shape[0]:\n",
    "                  os.remove(os.path.join(root_dir, dir_, file))\n",
    "              # remove B&W jpegs\n",
    "              elif np.array_equal(image[:,:,0], image[:,:,1]) or np.array_equal(image[:,:,0], image[:,:,2]) or np.array_equal(image[:,:,1], image[:,:,2]):\n",
    "                  os.remove(os.path.join(root_dir, dir_, file))\n",
    "              # remove images that have weird blurring at the top\n",
    "              elif np.array_equal(image[0,:,:], image[10,:,:]):\n",
    "                  os.remove(os.path.join(root_dir, dir_, file))\n",
    "              elif np.array_equal(image[:,0,:], image[:,10,:]):\n",
    "                  os.remove(os.path.join(root_dir, dir_, file))\n",
    "\n",
    "              # if the image is still big AND it still exists, resize it to save space\n",
    "              if os.path.exists(os.path.join(root_dir, dir_, file)) and image.shape[0] > 300:\n",
    "                new_height = 220\n",
    "                new_width = int((new_height / image.shape[0]) * image.shape[1])\n",
    "                image = Image.fromarray(image).resize((new_width, new_height))\n",
    "                image.save(os.path.join(root_dir, dir_, file))"
   ]
  },
  {
   "cell_type": "code",
   "execution_count": null,
   "metadata": {
    "colab": {
     "base_uri": "https://localhost:8080/",
     "height": 204
    },
    "colab_type": "code",
    "id": "Qc24_7Ajlh-p",
    "outputId": "27a791b9-f130-4fcd-9ad1-89d31680ca89"
   },
   "outputs": [],
   "source": [
    "!wget https://data.vision.ee.ethz.ch/cvl/rrothe/imdb-wiki/static/wiki_crop.tar\n",
    "!tar -xf wiki_crop.tar"
   ]
  },
  {
   "cell_type": "code",
   "execution_count": null,
   "metadata": {
    "colab": {},
    "colab_type": "code",
    "collapsed": true,
    "id": "HPvdZYvVW1cy"
   },
   "outputs": [],
   "source": [
    "clean_files(\"wiki_crop\")\n",
    "sample_files(\"wiki_crop\")"
   ]
  },
  {
   "cell_type": "code",
   "execution_count": null,
   "metadata": {
    "colab": {},
    "colab_type": "code",
    "collapsed": true,
    "id": "XpB8SBe5XGy7"
   },
   "outputs": [],
   "source": [
    "!zip -rq wiki_images.zip wiki_crop/\n",
    "!ls -al"
   ]
  },
  {
   "cell_type": "code",
   "execution_count": null,
   "metadata": {
    "colab": {},
    "colab_type": "code",
    "collapsed": true,
    "id": "6XMaF_cxi1K6"
   },
   "outputs": [],
   "source": [
    "!gsutil cp wiki_images.zip gs://{bucket_name}/wiki_images2.zip"
   ]
  },
  {
   "cell_type": "code",
   "execution_count": null,
   "metadata": {
    "colab": {
     "base_uri": "https://localhost:8080/",
     "height": 204
    },
    "colab_type": "code",
    "id": "LJ_cKhWOloAA",
    "outputId": "06711f26-33c9-475f-8d4e-50af7b064b34"
   },
   "outputs": [],
   "source": [
    "!wget https://data.vision.ee.ethz.ch/cvl/rrothe/imdb-wiki/static/imdb_crop.tar\n",
    "!tar -xf imdb_crop.tar"
   ]
  },
  {
   "cell_type": "code",
   "execution_count": null,
   "metadata": {
    "colab": {
     "base_uri": "https://localhost:8080/",
     "height": 79234
    },
    "colab_type": "code",
    "id": "V73Wq2jEio3W",
    "outputId": "1f683ded-6f0b-430e-c522-d63b2aaabb6d"
   },
   "outputs": [],
   "source": [
    "clean_files(\"imdb_crop\")\n",
    "sample_files(\"imdb_crop\")"
   ]
  },
  {
   "cell_type": "code",
   "execution_count": null,
   "metadata": {
    "colab": {
     "base_uri": "https://localhost:8080/",
     "height": 204
    },
    "colab_type": "code",
    "id": "85dWWT69CjDZ",
    "outputId": "0fb074b9-f9a9-440b-b56a-4d4761d14919"
   },
   "outputs": [],
   "source": [
    "!zip -rq imdb_images.zip imdb_crop/\n",
    "!ls -al"
   ]
  },
  {
   "cell_type": "code",
   "execution_count": null,
   "metadata": {
    "colab": {
     "base_uri": "https://localhost:8080/",
     "height": 272
    },
    "colab_type": "code",
    "id": "0Hh2oSXkI98O",
    "outputId": "47515be7-6335-430c-e772-a585065fda9d"
   },
   "outputs": [],
   "source": [
    "!gsutil cp imdb_images.zip gs://{bucket_name}/imdb_images3.zip"
   ]
  }
 ],
 "metadata": {
  "colab": {
   "collapsed_sections": [],
   "name": "download_convert_and_upload_-Copy1.ipynb",
   "provenance": [],
   "version": "0.3.2"
  },
  "kernelspec": {
   "display_name": "Python 3",
   "language": "python",
   "name": "python3"
  },
  "language_info": {
   "codemirror_mode": {
    "name": "ipython",
    "version": 3
   },
   "file_extension": ".py",
   "mimetype": "text/x-python",
   "name": "python",
   "nbconvert_exporter": "python",
   "pygments_lexer": "ipython3",
   "version": "3.6.2"
  }
 },
 "nbformat": 4,
 "nbformat_minor": 1
}
